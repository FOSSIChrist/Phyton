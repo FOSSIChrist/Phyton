{
 "cells": [
  {
   "cell_type": "code",
   "execution_count": 18,
   "id": "415532fe",
   "metadata": {},
   "outputs": [
    {
     "name": "stdout",
     "output_type": "stream",
     "text": [
      "[['Casey', '176544.328149'], ['Riley', '154860.665173'], ['Jessie', '136381.830656'], ['Jackie', '132928.78874'], ['Avery', '121797.419516'], ['Jaime', '109870.18729'], ['Peyton', '94896.395216'], ['Kerry', '88963.92625'], ['Jody', '80400.519199'], ['Kendall', '79210.873961']]\n"
     ]
    }
   ],
   "source": [
    "# Lire le fichier 'unisex_names.csv' et le convertir en liste\n",
    "import csv\n",
    "names = open(\"fichier/unisex_names.csv\")\n",
    "names_read= list(csv.reader(names))\n",
    "print(names_read[0:10])"
   ]
  },
  {
   "cell_type": "code",
   "execution_count": 14,
   "id": "dd46b545",
   "metadata": {},
   "outputs": [
    {
     "name": "stdout",
     "output_type": "stream",
     "text": [
      "[['Riley', 154860.665173], ['Jessie', 136381.830656], ['Jackie', 132928.78874], ['Avery', 121797.419516], ['Jaime', 109870.18729], ['Peyton', 94896.395216], ['Kerry', 88963.92625], ['Jody', 80400.519199], ['Kendall', 79210.873961]]\n"
     ]
    }
   ],
   "source": [
    "# Convertir les valeurs numériques\n",
    "numerical_list = []\n",
    "for item in names_read:\n",
    "    row = item[0]\n",
    "    col = float(item[1])\n",
    "    numerical_list.append([row,col])\n",
    "    \n",
    "print(numerical_list[1:10])"
   ]
  },
  {
   "cell_type": "code",
   "execution_count": 17,
   "id": "ae91e03c",
   "metadata": {},
   "outputs": [
    {
     "name": "stdout",
     "output_type": "stream",
     "text": [
      "['Casey', 'Riley', 'Jessie', 'Jackie', 'Avery', 'Jaime', 'Peyton', 'Kerry', 'Jody', 'Kendall']\n"
     ]
    }
   ],
   "source": [
    "# Filtrer la liste \n",
    "final_list = []\n",
    "for item in numerical_list:\n",
    "    if item[1]>=10000:\n",
    "        final_list.append(item[0])\n",
    "print(final_list[0:10])"
   ]
  },
  {
   "cell_type": "code",
   "execution_count": null,
   "id": "2f756ae8",
   "metadata": {},
   "outputs": [],
   "source": []
  }
 ],
 "metadata": {
  "kernelspec": {
   "display_name": "Python 3 (ipykernel)",
   "language": "python",
   "name": "python3"
  },
  "language_info": {
   "codemirror_mode": {
    "name": "ipython",
    "version": 3
   },
   "file_extension": ".py",
   "mimetype": "text/x-python",
   "name": "python",
   "nbconvert_exporter": "python",
   "pygments_lexer": "ipython3",
   "version": "3.9.13"
  }
 },
 "nbformat": 4,
 "nbformat_minor": 5
}
