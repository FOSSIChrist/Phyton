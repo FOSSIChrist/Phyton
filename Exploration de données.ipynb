{
 "cells": [
  {
   "cell_type": "code",
   "execution_count": 2,
   "id": "cbbabf8b",
   "metadata": {},
   "outputs": [],
   "source": [
    "## Découverte du dataset\n",
    "import csv\n",
    "\n",
    "data = list(csv.reader(open(\"Fichier/guns.csv\")))\n",
    "\n",
    "# Extraire l'entête de Data et l'assigner à headers\n",
    "\n",
    "headers = data[0]\n",
    "\n",
    "# Supprimer l'entête de Data\n",
    "data = data[1:]\n",
    "\n"
   ]
  },
  {
   "cell_type": "markdown",
   "id": "078f11b9",
   "metadata": {},
   "source": [
    "# Compter le nbre de décès par année"
   ]
  },
  {
   "cell_type": "code",
   "execution_count": 3,
   "id": "caf0d096",
   "metadata": {},
   "outputs": [
    {
     "name": "stdout",
     "output_type": "stream",
     "text": [
      "{'2012': 33563, '2013': 33636, '2014': 33599}\n"
     ]
    }
   ],
   "source": [
    "# Extraire la donnée de la colonne years\n",
    "years = [i[1] for i in data]\n",
    "\n",
    "year_counts = {}\n",
    "\n",
    "# Comptons les décès par année\n",
    "\n",
    "for i in years:\n",
    "    if i in year_counts:\n",
    "        year_counts[i]+=1\n",
    "    else:\n",
    "        year_counts[i]=1\n",
    "\n",
    "print(year_counts)"
   ]
  },
  {
   "cell_type": "markdown",
   "id": "0cf144da",
   "metadata": {},
   "source": [
    "## Explorer les décès pa armes à feu par mois et année"
   ]
  },
  {
   "cell_type": "code",
   "execution_count": 8,
   "id": "c7dc5393",
   "metadata": {},
   "outputs": [
    {
     "name": "stdout",
     "output_type": "stream",
     "text": [
      "[datetime.datetime(2012, 1, 1, 0, 0), datetime.datetime(2012, 1, 1, 0, 0), datetime.datetime(2012, 1, 1, 0, 0), datetime.datetime(2012, 2, 1, 0, 0), datetime.datetime(2012, 2, 1, 0, 0), datetime.datetime(2012, 2, 1, 0, 0), datetime.datetime(2012, 2, 1, 0, 0), datetime.datetime(2012, 3, 1, 0, 0), datetime.datetime(2012, 2, 1, 0, 0), datetime.datetime(2012, 2, 1, 0, 0)]\n"
     ]
    }
   ],
   "source": [
    "# Extraire toutes les dates et assigner à dates\n",
    "import datetime\n",
    "dates = [datetime.datetime(year = int(row[1]),month = int(row[2]), day = 1) for row in data]\n",
    "print(dates[0:10])"
   ]
  },
  {
   "cell_type": "code",
   "execution_count": 10,
   "id": "29b266b8",
   "metadata": {},
   "outputs": [
    {
     "name": "stdout",
     "output_type": "stream",
     "text": [
      "{datetime.datetime(2012, 1, 1, 0, 0): 2758, datetime.datetime(2012, 2, 1, 0, 0): 2357, datetime.datetime(2012, 3, 1, 0, 0): 2743, datetime.datetime(2012, 4, 1, 0, 0): 2795, datetime.datetime(2012, 5, 1, 0, 0): 2999, datetime.datetime(2012, 6, 1, 0, 0): 2826, datetime.datetime(2012, 7, 1, 0, 0): 3026, datetime.datetime(2012, 8, 1, 0, 0): 2954, datetime.datetime(2012, 9, 1, 0, 0): 2852, datetime.datetime(2012, 10, 1, 0, 0): 2733, datetime.datetime(2012, 11, 1, 0, 0): 2729, datetime.datetime(2012, 12, 1, 0, 0): 2791, datetime.datetime(2013, 1, 1, 0, 0): 2864, datetime.datetime(2013, 2, 1, 0, 0): 2375, datetime.datetime(2013, 3, 1, 0, 0): 2862, datetime.datetime(2013, 4, 1, 0, 0): 2798, datetime.datetime(2013, 5, 1, 0, 0): 2806, datetime.datetime(2013, 6, 1, 0, 0): 2920, datetime.datetime(2013, 7, 1, 0, 0): 3079, datetime.datetime(2013, 8, 1, 0, 0): 2859, datetime.datetime(2013, 9, 1, 0, 0): 2742, datetime.datetime(2013, 10, 1, 0, 0): 2808, datetime.datetime(2013, 11, 1, 0, 0): 2758, datetime.datetime(2013, 12, 1, 0, 0): 2765, datetime.datetime(2014, 1, 1, 0, 0): 2651, datetime.datetime(2014, 2, 1, 0, 0): 2361, datetime.datetime(2014, 3, 1, 0, 0): 2684, datetime.datetime(2014, 4, 1, 0, 0): 2862, datetime.datetime(2014, 5, 1, 0, 0): 2864, datetime.datetime(2014, 6, 1, 0, 0): 2931, datetime.datetime(2014, 7, 1, 0, 0): 2884, datetime.datetime(2014, 8, 1, 0, 0): 2970, datetime.datetime(2014, 9, 1, 0, 0): 2914, datetime.datetime(2014, 10, 1, 0, 0): 2865, datetime.datetime(2014, 11, 1, 0, 0): 2756, datetime.datetime(2014, 12, 1, 0, 0): 2857}\n"
     ]
    }
   ],
   "source": [
    "# Comptons le nombre d'éléments par dates\n",
    "date_counts = {}\n",
    "for i in dates:\n",
    "    if i in date_counts:\n",
    "        date_counts[i] += 1\n",
    "    else:\n",
    "        date_counts[i] = 1\n",
    "print(date_counts)"
   ]
  },
  {
   "cell_type": "markdown",
   "id": "3b8099c1",
   "metadata": {},
   "source": [
    "## Explorer les décès par arme à feu par origine et sexe"
   ]
  },
  {
   "cell_type": "code",
   "execution_count": 13,
   "id": "ea482540",
   "metadata": {},
   "outputs": [
    {
     "name": "stdout",
     "output_type": "stream",
     "text": [
      "{'M': 86349, 'F': 14449}\n",
      "{'Asian/Pacific Islander': 1326, 'White': 66237, 'Native American/Native Alaskan': 917, 'Black': 23296, 'Hispanic': 9022}\n"
     ]
    }
   ],
   "source": [
    "sex_counts = {}\n",
    "race_counts = {}\n",
    "for row in data:\n",
    "    if row[5] in sex_counts:\n",
    "        sex_counts[row[5]] += 1\n",
    "    else:\n",
    "        sex_counts[row[5]] = 1\n",
    "    if row[7] in race_counts:\n",
    "        race_counts[row[7]] += 1\n",
    "    else:\n",
    "        race_counts[row[7]] = 1\n",
    "\n",
    "print(sex_counts)\n",
    "print(race_counts)"
   ]
  },
  {
   "cell_type": "code",
   "execution_count": 12,
   "id": "b2a9338f",
   "metadata": {},
   "outputs": [
    {
     "data": {
      "text/plain": [
       "['',\n",
       " 'year',\n",
       " 'month',\n",
       " 'intent',\n",
       " 'police',\n",
       " 'sex',\n",
       " 'age',\n",
       " 'race',\n",
       " 'hispanic',\n",
       " 'place',\n",
       " 'education']"
      ]
     },
     "execution_count": 12,
     "metadata": {},
     "output_type": "execute_result"
    }
   ],
   "source": [
    "headers\n"
   ]
  },
  {
   "cell_type": "code",
   "execution_count": 23,
   "id": "09cec3bf",
   "metadata": {},
   "outputs": [
    {
     "name": "stdout",
     "output_type": "stream",
     "text": [
      "{'Asian/Pacific Islander': 8.374309664161762, 'White': 3357171.8195641153, 'Native American/Native Alaskan': 245.24880584959854, 'Black': 57.8773477735196, 'Hispanic': 2.0223344219576114}\n"
     ]
    }
   ],
   "source": [
    "# Créons un dic mapping contenant les mos clés de race_counts\n",
    "mapping = {'Asian/Pacific Islander': 15159516 + 674625,\n",
    "           'White' : 1973,\n",
    "           'Native American/Native Alaskan': 373906,\n",
    "           'Black': 40250635,\n",
    "           'Hispanic': 446118105\n",
    "           \n",
    "          }\n",
    "\n",
    "ratio = {}\n",
    "# Parcourir race_counts calcul le nbre de décès e fonction de l'origine\n",
    "for name,i in race_counts.items():\n",
    "    ratio[name] = ( i / mapping[name] ) * 100000\n",
    "    \n",
    "print(ratio)\n",
    "    \n"
   ]
  },
  {
   "cell_type": "markdown",
   "id": "395fc730",
   "metadata": {},
   "source": [
    "## Filter par homicide"
   ]
  },
  {
   "cell_type": "code",
   "execution_count": 37,
   "id": "685f5b89",
   "metadata": {},
   "outputs": [
    {
     "name": "stdout",
     "output_type": "stream",
     "text": [
      "{'Asian/Pacific Islander': 559, 'White': 9147, 'Native American/Native Alaskan': 326, 'Black': 19510, 'Hispanic': 5634}\n"
     ]
    }
   ],
   "source": [
    "intents = [row[3] for row in data]\n",
    "races = [row[7] for row in data]\n",
    "\n",
    "homicide_counts = {}\n",
    "for nbre_homicide,race in enumerate(races):\n",
    "    if race not in homicide_counts :\n",
    "        homicide_counts[race] = 0\n",
    "    if intents[nbre_homicide] == 'Homicide':\n",
    "        homicide_counts[race] += 1\n",
    "   \n",
    "         \n",
    "print(homicide_counts)"
   ]
  },
  {
   "cell_type": "code",
   "execution_count": null,
   "id": "db73dd27",
   "metadata": {},
   "outputs": [],
   "source": []
  }
 ],
 "metadata": {
  "kernelspec": {
   "display_name": "Python 3 (ipykernel)",
   "language": "python",
   "name": "python3"
  },
  "language_info": {
   "codemirror_mode": {
    "name": "ipython",
    "version": 3
   },
   "file_extension": ".py",
   "mimetype": "text/x-python",
   "name": "python",
   "nbconvert_exporter": "python",
   "pygments_lexer": "ipython3",
   "version": "3.9.13"
  }
 },
 "nbformat": 4,
 "nbformat_minor": 5
}
