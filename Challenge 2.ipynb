{
 "cells": [
  {
   "cell_type": "code",
   "execution_count": 1,
   "id": "2efdda8a",
   "metadata": {},
   "outputs": [
    {
     "name": "stdout",
     "output_type": "stream",
     "text": [
      "[['year', 'month', 'date_of_month', 'day_of_week', 'births'], ['2000', '1', '1', '6', '9083'], ['2000', '1', '2', '7', '8006'], ['2000', '1', '3', '1', '11363'], ['2000', '1', '4', '2', '13032'], ['2000', '1', '5', '3', '12558'], ['2000', '1', '6', '4', '12466'], ['2000', '1', '7', '5', '12516'], ['2000', '1', '8', '6', '8934'], ['2000', '1', '9', '7', '7949']]\n"
     ]
    }
   ],
   "source": [
    "# Lire un fichier et le convertir en liste\n",
    "import csv\n",
    "births_split = csv.reader(open(\"US_births_2000-2014.csv\"))\n",
    "births_list = list(births_split)\n",
    "print(births_list[0:10])"
   ]
  },
  {
   "cell_type": "code",
   "execution_count": 5,
   "id": "53bd1948",
   "metadata": {},
   "outputs": [
    {
     "name": "stdout",
     "output_type": "stream",
     "text": [
      "[[2000, 1, 4, 2, 13032], [2000, 1, 5, 3, 12558], [2000, 1, 6, 4, 12466], [2000, 1, 7, 5, 12516], [2000, 1, 8, 6, 8934], [2000, 1, 9, 7, 7949], [2000, 1, 10, 1, 11668], [2000, 1, 11, 2, 12611], [2000, 1, 12, 3, 12398], [2000, 1, 13, 4, 11815]]\n"
     ]
    }
   ],
   "source": [
    "# fonction qui convertir les valeurs de la liste en entier\n",
    "births_list = births_list[1:]\n",
    "def read_csv(string):\n",
    "    b = []\n",
    "    for item in string:\n",
    "        a = []\n",
    "        for i in item:\n",
    "            a.append(int(i))\n",
    "        b.append(a)\n",
    "    return b\n",
    "us_births_list = read_csv(births_list)\n",
    "print(us_births_list[0:10])"
   ]
  },
  {
   "cell_type": "code",
   "execution_count": 7,
   "id": "17e3ac5a",
   "metadata": {},
   "outputs": [
    {
     "name": "stdout",
     "output_type": "stream",
     "text": [
      "{1: 5044136, 2: 4725693, 3: 5172961, 4: 4960750, 5: 5195445, 6: 5163360, 7: 5450418, 8: 5540170, 9: 5399592, 10: 5302865, 11: 5008750, 12: 5194432}\n"
     ]
    }
   ],
   "source": [
    "# fonction qui retourne un dictionnaire contenant pour chaque mois \n",
    "# le nombre de naissance\n",
    "def month_births(string):\n",
    "    dic = {}\n",
    "    for item in string:\n",
    "        if item[1] in dic:\n",
    "            dic[item[1]]+=item[4]\n",
    "        else:\n",
    "            dic[item[1]]=item[4]\n",
    "    return dic\n",
    "us_months_births = month_births(us_births_list)\n",
    "print(us_months_births)"
   ]
  },
  {
   "cell_type": "code",
   "execution_count": 8,
   "id": "aef705ea",
   "metadata": {},
   "outputs": [
    {
     "name": "stdout",
     "output_type": "stream",
     "text": [
      "{2000: 4121146, 2001: 4110963, 2002: 4099313, 2003: 4163060, 2004: 4186863, 2005: 4211941, 2006: 4335154, 2007: 4380784, 2008: 4310737, 2009: 4190991, 2010: 4055975, 2011: 4006908, 2012: 4000868, 2013: 3973337, 2014: 4010532}\n"
     ]
    }
   ],
   "source": [
    "# fonction qui calcule le nombre de naissances par colonne choisie\n",
    "def calc_counts(string,colonne):\n",
    "    dic = {}\n",
    "    for item in string:\n",
    "        if item[colonne] in dic:\n",
    "            dic[item[colonne]]+=item[4]\n",
    "        else:\n",
    "            dic[item[colonne]]=item[4]\n",
    "    return dic\n",
    "us_year_births = calc_counts(us_births_list,0)\n",
    "print(us_year_births)"
   ]
  },
  {
   "cell_type": "code",
   "execution_count": null,
   "id": "aa590a7c",
   "metadata": {},
   "outputs": [],
   "source": []
  }
 ],
 "metadata": {
  "kernelspec": {
   "display_name": "Python 3 (ipykernel)",
   "language": "python",
   "name": "python3"
  },
  "language_info": {
   "codemirror_mode": {
    "name": "ipython",
    "version": 3
   },
   "file_extension": ".py",
   "mimetype": "text/x-python",
   "name": "python",
   "nbconvert_exporter": "python",
   "pygments_lexer": "ipython3",
   "version": "3.9.13"
  }
 },
 "nbformat": 4,
 "nbformat_minor": 5
}
