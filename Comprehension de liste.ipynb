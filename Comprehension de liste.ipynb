{
 "cells": [
  {
   "cell_type": "code",
   "execution_count": 4,
   "id": "d7f2ef2c",
   "metadata": {},
   "outputs": [
    {
     "name": "stdout",
     "output_type": "stream",
     "text": [
      "[['last_name', 'first_name', 'birthday', 'gender', 'type', 'state', 'party', 'birth_year'], ['Bassett', 'Richard', '1745-04-02', 'M', 'sen', 'DE', 'Anti-Administration', 1745], ['Bland', 'Theodorick', '1742-03-21', '', 'rep', 'VA', '', 1742], ['Burke', 'Aedanus', '1743-06-16', '', 'rep', 'SC', '', 1743], ['Carroll', 'Daniel', '1730-07-22', 'M', 'rep', 'MD', '', 1730], ['Clymer', 'George', '1739-03-16', 'M', 'rep', 'PA', '', 1739], ['Contee', 'Benjamin', '', 'M', 'rep', 'MD', '', 0], ['Dalton', 'Tristram', '1738-05-28', '', 'sen', 'MA', 'Pro-Administration', 1738], ['Elmer', 'Jonathan', '1745-11-29', 'M', 'sen', 'NJ', 'Pro-Administration', 1745], ['Few', 'William', '1748-06-08', 'M', 'sen', 'GA', 'Anti-Administration', 1748]]\n"
     ]
    }
   ],
   "source": [
    "# Ajoute la colonne birth_year à legislators qu'on a extrait de la colonne birthday \n",
    "import csv\n",
    "legislators = list(csv.reader(open(\"Fichier/legislators.csv\")))\n",
    "for item in legislators:\n",
    "    birthday = item[2]\n",
    "    birth_year = birthday.split(\"-\")[0]\n",
    "    \n",
    "    try:\n",
    "        birth_year = int(birth_year)\n",
    "    except Exception :\n",
    "        birth_year = 0\n",
    "    item.append(birth_year)\n",
    "\n",
    "legislators[0][7] = 'birth_year'\n",
    "print(legislators[0:10])\n"
   ]
  },
  {
   "cell_type": "code",
   "execution_count": 6,
   "id": "880fa662",
   "metadata": {},
   "outputs": [
    {
     "name": "stdout",
     "output_type": "stream",
     "text": [
      "[['last_name', 'first_name', 'birthday', 'gender', 'type', 'state', 'party', 'birth_year'], ['Bassett', 'Richard', '1745-04-02', 'M', 'sen', 'DE', 'Anti-Administration', 1745], ['Bland', 'Theodorick', '1742-03-21', '', 'rep', 'VA', '', 1742], ['Burke', 'Aedanus', '1743-06-16', '', 'rep', 'SC', '', 1743], ['Carroll', 'Daniel', '1730-07-22', 'M', 'rep', 'MD', '', 1730], ['Clymer', 'George', '1739-03-16', 'M', 'rep', 'PA', '', 1739], ['Contee', 'Benjamin', '', 'M', 'rep', 'MD', '', 1739], ['Dalton', 'Tristram', '1738-05-28', '', 'sen', 'MA', 'Pro-Administration', 1738], ['Elmer', 'Jonathan', '1745-11-29', 'M', 'sen', 'NJ', 'Pro-Administration', 1745], ['Few', 'William', '1748-06-08', 'M', 'sen', 'GA', 'Anti-Administration', 1748]]\n"
     ]
    }
   ],
   "source": [
    "# Remplace les birth_year = 0 par le birth_year de la colonne précedente\n",
    "last_value = 1\n",
    "for i in legislators:\n",
    "    if i[7] == 0:\n",
    "        i[7] = last_value\n",
    "    last_value = i[7]\n",
    "print(legislators[0:10])"
   ]
  },
  {
   "cell_type": "code",
   "execution_count": 9,
   "id": "ac709d0d",
   "metadata": {},
   "outputs": [
    {
     "name": "stdout",
     "output_type": "stream",
     "text": [
      "{'Enid': 1, 'Lynn': 1, 'Karen': 1, 'Denise': 1, 'Katherine': 1, 'Melissa': 2, 'Blanche': 1, 'Cynthia': 1, 'Shelley': 2, 'Nancy': 1, 'Deborah': 2, 'Heather': 1, 'Kathleen': 2, 'Mary': 2, 'Stephanie': 1, 'Betsy': 1, 'Hilda': 1, 'Ellen': 1, 'Gabrielle': 1, 'Sandy': 1, 'Ann Marie': 1, 'Nan': 1, 'Laura': 1, 'Jean': 1, 'Betty': 1}\n"
     ]
    }
   ],
   "source": [
    "# Compter les prénoms féminins des politiciens\n",
    "name_counts = {}\n",
    "for i in legislators:\n",
    "    if i[3] == 'F' and i[7] > 1950:\n",
    "        name = i[1]\n",
    "        if name in name_counts:\n",
    "            name_counts[name] += 1\n",
    "        else:\n",
    "            name_counts[name] = 1\n",
    "print(name_counts)"
   ]
  },
  {
   "cell_type": "code",
   "execution_count": 17,
   "id": "2ad40619",
   "metadata": {},
   "outputs": [
    {
     "name": "stdout",
     "output_type": "stream",
     "text": [
      "Melissa\n",
      "Shelley\n",
      "Deborah\n",
      "Kathleen\n",
      "Mary\n"
     ]
    }
   ],
   "source": [
    "# Prénoms féminins les plus fréquents \n",
    "max = None\n",
    "for name,count in name_counts.items():\n",
    "   if max is None or max < count:\n",
    "        max = count\n",
    "for name,count in name_counts.items():\n",
    "    if count == max:\n",
    "        print(name)"
   ]
  },
  {
   "cell_type": "code",
   "execution_count": 24,
   "id": "75f7a2ed",
   "metadata": {},
   "outputs": [
    {
     "name": "stdout",
     "output_type": "stream",
     "text": [
      "['John']\n"
     ]
    }
   ],
   "source": [
    "male_name_counts = {}\n",
    "for i in legislators:\n",
    "    # Comptons les prénoms masculins nés après 1940\n",
    "    if i[3] == 'M' and i[7] > 1940:\n",
    "        if i[1] in male_name_counts:\n",
    "            male_name_counts[i[1]]+=1\n",
    "        else:\n",
    "            male_name_counts[i[1]]=1\n",
    "\n",
    "# Trouvons la valeur la plus grande du dictionnaire\n",
    "top_male_count = None\n",
    "for i in male_name_counts:\n",
    "    if top_male_count is None or top_male_count < male_name_counts[i]:\n",
    "        top_male_count = male_name_counts[i]\n",
    "\n",
    "\n",
    "# Afichons les prénoms les plus fréquents\n",
    "\n",
    "top_male_names = [name for name,count in male_name_counts.items() if count == top_male_count]\n",
    "print(top_male_names)\n",
    "    "
   ]
  },
  {
   "cell_type": "code",
   "execution_count": null,
   "id": "2c0932af",
   "metadata": {},
   "outputs": [],
   "source": []
  }
 ],
 "metadata": {
  "kernelspec": {
   "display_name": "Python 3 (ipykernel)",
   "language": "python",
   "name": "python3"
  },
  "language_info": {
   "codemirror_mode": {
    "name": "ipython",
    "version": 3
   },
   "file_extension": ".py",
   "mimetype": "text/x-python",
   "name": "python",
   "nbconvert_exporter": "python",
   "pygments_lexer": "ipython3",
   "version": "3.9.13"
  }
 },
 "nbformat": 4,
 "nbformat_minor": 5
}
