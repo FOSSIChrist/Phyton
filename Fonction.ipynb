{
 "cells": [
  {
   "cell_type": "code",
   "execution_count": 2,
   "id": "68447204",
   "metadata": {},
   "outputs": [
    {
     "name": "stdout",
     "output_type": "stream",
     "text": [
      "['à', 'afin', 'autant', 'automatique', 'automatisées', 'autres', 'aux', 'bien', 'calcul', 'ces']\n"
     ]
    }
   ],
   "source": [
    "# Transformer le dictionnaire en liste\n",
    "vocabulary = open(\"dictionnaire.txt\",\"r\",encoding=\"utf-8\").read()\n",
    "tokenized_vocabulary = vocabulary.split(\" \")\n",
    "print(tokenized_vocabulary[0:10])"
   ]
  },
  {
   "cell_type": "code",
   "execution_count": 8,
   "id": "cc25f4f5",
   "metadata": {},
   "outputs": [
    {
     "name": "stdout",
     "output_type": "stream",
     "text": [
      "En termes généraux la scence des données est lextraction de conaissance densembles de données    Elle emploie des techniques et des théories tirées de plusieurs autres domaines plus larges des mathématiques la statistique principalement la téorie de linformation et la technologie de linformation notamment le traitement de signal des modèles probabilistes lapprentissage automatique lapprentissage statistiqe la programmation informatique lingénierie de données la reconnaissance de formes et lapprentissage la visualisation lanalytique prophétique la modélisation dincertitude le stokage de données la compression de données et le calcul à haute performance  Les méthodes qui sadaptent aux données de masse sont particulièrement intéressantes dans la science des données bien que la dicipline ne soit généralement pas considérée come limitée à ces données    Le premier objectif est de produire des méthodes automatisées autant que possible de tri et danalyse de données de masse et de sources plus ou moins complexes ou disjointes de données afin den extraire des informations utiles ou potentiellement utiles Source Wikipédia\n"
     ]
    }
   ],
   "source": [
    "# Remplacement des caractères spéciaux\n",
    "text_string = open(\"texte.txt\",\"r\",encoding=\"utf-8\").read()\n",
    "text_String=text_string.replace(\",\",\"\")\n",
    "text_String=text_String.replace(\".\",\"\")\n",
    "text_String=text_String.replace(\"\\n\",\"\")\n",
    "text_String=text_String.replace(\"'\",\"\")\n",
    "print(text_String)"
   ]
  },
  {
   "cell_type": "code",
   "execution_count": 9,
   "id": "2c833b69",
   "metadata": {},
   "outputs": [
    {
     "name": "stdout",
     "output_type": "stream",
     "text": [
      "en termes généraux la scence des données est lextraction de conaissance densembles de données    elle emploie des techniques et des théories tirées de plusieurs autres domaines plus larges des mathématiques la statistique principalement la téorie de linformation et la technologie de linformation notamment le traitement de signal des modèles probabilistes lapprentissage automatique lapprentissage statistiqe la programmation informatique lingénierie de données la reconnaissance de formes et lapprentissage la visualisation lanalytique prophétique la modélisation dincertitude le stokage de données la compression de données et le calcul à haute performance  les méthodes qui sadaptent aux données de masse sont particulièrement intéressantes dans la science des données bien que la dicipline ne soit généralement pas considérée come limitée à ces données    le premier objectif est de produire des méthodes automatisées autant que possible de tri et danalyse de données de masse et de sources plus ou moins complexes ou disjointes de données afin den extraire des informations utiles ou potentiellement utiles source wikipédia\n"
     ]
    }
   ],
   "source": [
    "## Convertir les majuscules en miniscules\n",
    "text_String = text_String.lower()\n",
    "print(text_String)\n"
   ]
  },
  {
   "cell_type": "code",
   "execution_count": 11,
   "id": "8a875711",
   "metadata": {},
   "outputs": [
    {
     "name": "stdout",
     "output_type": "stream",
     "text": [
      "en termes généraux la scence des données est lextraction de conaissance densembles de données    elle emploie des techniques et des théories tirées de plusieurs autres domaines plus larges des mathématiques la statistique principalement la téorie de linformation et la technologie de linformation notamment le traitement de signal des modèles probabilistes lapprentissage automatique lapprentissage statistiqe la programmation informatique lingénierie de données la reconnaissance de formes et lapprentissage la visualisation lanalytique prophétique la modélisation dincertitude le stokage de données la compression de données et le calcul à haute performance  les méthodes qui sadaptent aux données de masse sont particulièrement intéressantes dans la science des données bien que la dicipline ne soit généralement pas considérée come limitée à ces données    le premier objectif est de produire des méthodes automatisées autant que possible de tri et danalyse de données de masse et de sources plus ou moins complexes ou disjointes de données afin den extraire des informations utiles ou potentiellement utiles source wikipédia\n"
     ]
    }
   ],
   "source": [
    "# Fonction qui remplace les ponctuations par un espace\n",
    "def clean_text(string,special_characters,replacement_string):\n",
    "    for item in special_characters:\n",
    "        string = string.replace(item,replacement_string)\n",
    "        string = string.lower()\n",
    "    return string\n",
    "cleaned_text=clean_text(text_string,[\",\",\".\",\"'\",\"\\n\"],\"\")\n",
    "print(cleaned_text)"
   ]
  },
  {
   "cell_type": "code",
   "execution_count": 14,
   "id": "ca85bc46",
   "metadata": {},
   "outputs": [
    {
     "name": "stdout",
     "output_type": "stream",
     "text": [
      "['en', 'termes', 'généraux', 'la', 'scence', 'des', 'données', 'est', 'lextraction', 'de']\n"
     ]
    }
   ],
   "source": [
    "# Transformer texte en liste\n",
    "def tokenize(espace):\n",
    "    string = clean_text(text_string,[\",\",\".\",\"'\",\"\\n\"],\"\")\n",
    "    text_tokens = string.split(espace)\n",
    "    return text_tokens\n",
    "tokenized_text = tokenize(\" \")\n",
    "print(tokenized_text[0:10])\n",
    "      "
   ]
  },
  {
   "cell_type": "code",
   "execution_count": 17,
   "id": "06b8f078",
   "metadata": {},
   "outputs": [
    {
     "name": "stdout",
     "output_type": "stream",
     "text": [
      "['scence', 'conaissance', '', '', '', 'téorie', 'statistiqe', 'stokage', '', 'dicipline', 'come', '', '', '']\n"
     ]
    }
   ],
   "source": [
    "# Trouvons les mots mal orthographiés\n",
    "misspelled_words = []\n",
    "for item in tokenized_text:\n",
    "    if item not in tokenized_vocabulary:\n",
    "        misspelled_words.append(item)\n",
    "print(misspelled_words)"
   ]
  },
  {
   "cell_type": "code",
   "execution_count": null,
   "id": "bb89b30d",
   "metadata": {},
   "outputs": [],
   "source": []
  }
 ],
 "metadata": {
  "kernelspec": {
   "display_name": "Python 3 (ipykernel)",
   "language": "python",
   "name": "python3"
  },
  "language_info": {
   "codemirror_mode": {
    "name": "ipython",
    "version": 3
   },
   "file_extension": ".py",
   "mimetype": "text/x-python",
   "name": "python",
   "nbconvert_exporter": "python",
   "pygments_lexer": "ipython3",
   "version": "3.9.13"
  }
 },
 "nbformat": 4,
 "nbformat_minor": 5
}
